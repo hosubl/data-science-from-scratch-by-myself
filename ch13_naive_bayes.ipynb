{
 "cells": [
  {
   "cell_type": "code",
   "execution_count": 1,
   "metadata": {},
   "outputs": [],
   "source": [
    "%%capture\n",
    "%run ch11_maching_learning.ipynb"
   ]
  },
  {
   "cell_type": "code",
   "execution_count": 2,
   "metadata": {},
   "outputs": [],
   "source": [
    "# Tokenizer\n",
    "\n",
    "from typing import Set\n",
    "import re\n",
    "\n",
    "def tokenize(text: str) -> Set[str]:\n",
    "    text = text.lower()\n",
    "    all_words = re.findall(\"[a-z0-9']+\", text)\n",
    "    return set(all_words)"
   ]
  },
  {
   "cell_type": "code",
   "execution_count": 3,
   "metadata": {},
   "outputs": [],
   "source": [
    "# Training data type\n",
    "\n",
    "from typing import NamedTuple\n",
    "\n",
    "class Message(NamedTuple):\n",
    "    text: str\n",
    "    is_spam: bool # label"
   ]
  },
  {
   "cell_type": "code",
   "execution_count": 4,
   "metadata": {},
   "outputs": [],
   "source": [
    "# Naive Bayes\n",
    "\n",
    "from typing import List, Tuple, Dict, Iterable\n",
    "import math\n",
    "from collections import defaultdict\n",
    "\n",
    "class NaiveBayesClassifier:\n",
    "    def __init__(self, k: float = 0.5) -> None:\n",
    "        self.k = k # smoothing factor (avoid zero spam probability)\n",
    "        \n",
    "        self.tokens: Set[str] = set() # dictionary\n",
    "        self.token_spam_counts: Dict[str, int] = defaultdict(int) # number of spam messages per each token\n",
    "        self.token_ham_counts: Dict[str, int] = defaultdict(int) # number of ham messages per each token\n",
    "        self.spam_messages = self.ham_messages = 0 # total number of spam and ham messages\n",
    "        \n",
    "    def train(self, messages: Iterable[Message]) -> None:\n",
    "        for message in messages:\n",
    "            \n",
    "            # Increment message counts\n",
    "            if message.is_spam:\n",
    "                self.spam_messages += 1\n",
    "            else:\n",
    "                self.ham_messages += 1\n",
    "                \n",
    "            # Increment word counts\n",
    "            for token in tokenize(message.text):\n",
    "                self.tokens.add(token)\n",
    "                \n",
    "                if message.is_spam:\n",
    "                    self.token_spam_counts[token] += 1\n",
    "                else:\n",
    "                    self.token_ham_counts[token] += 1\n",
    "    \n",
    "    def _probabilities(self, token: str) -> Tuple[float, float]:\n",
    "        \"\"\"Returns P(token|spam) and P(token|ham)\"\"\"\n",
    "        \n",
    "        spam = self.token_spam_counts[token]\n",
    "        ham = self.token_ham_counts[token]\n",
    "        \n",
    "        p_token_spam = (self.k + spam) / (self.k * 2 + self.spam_messages)\n",
    "        p_token_ham = (self.k + ham) / (self.k * 2 + self.ham_messages)\n",
    "        \n",
    "        return p_token_spam, p_token_ham\n",
    "    \n",
    "    def predict(self, text: str) -> float:\n",
    "        \"\"\"Returns P(spam|token)\"\"\"\n",
    "        input_tokens = tokenize(text)\n",
    "        log_prob_if_spam = log_prob_if_ham = 0.0\n",
    "        \n",
    "        # Iterate through each word in our dictionary\n",
    "        for token in self.tokens:\n",
    "            \n",
    "            # Compute P(token|spam) and P(token|ham)\n",
    "            prob_if_spam, prob_if_ham = self._probabilities(token)\n",
    "            \n",
    "            # If token appears in the message, add the log probability of seeing it\n",
    "            if token in input_tokens:\n",
    "                log_prob_if_spam += math.log(prob_if_spam)\n",
    "                log_prob_if_ham += math.log(prob_if_ham)\n",
    "            # Otherwise add the log probability of not seeing it\n",
    "            else:\n",
    "                log_prob_if_spam += math.log(1 - prob_if_spam)\n",
    "                log_prob_if_ham += math.log(1 - prob_if_ham)\n",
    "                \n",
    "        prob_if_spam = math.exp(log_prob_if_spam)\n",
    "        prob_if_ham = math.exp(log_prob_if_ham)\n",
    "        \n",
    "        return prob_if_spam / (prob_if_spam + prob_if_ham)"
   ]
  },
  {
   "cell_type": "code",
   "execution_count": 5,
   "metadata": {},
   "outputs": [],
   "source": [
    "# Naive Bayes - test with examples\n",
    "\n",
    "messages = [Message(\"spam rules\", is_spam=True),\n",
    "            Message(\"ham rules\", is_spam=False),\n",
    "            Message(\"hello ham\", is_spam=False)]\n",
    "\n",
    "model = NaiveBayesClassifier(k=0.5)\n",
    "model.train(messages)\n",
    "\n",
    "assert model.tokens == {\"spam\", \"ham\", \"rules\", \"hello\"}\n",
    "assert model.spam_messages == 1\n",
    "assert model.ham_messages == 2\n",
    "assert model.token_spam_counts == {\"spam\": 1, \"rules\": 1}\n",
    "assert model.token_ham_counts == {\"ham\": 2, \"rules\": 1, \"hello\": 1}"
   ]
  },
  {
   "cell_type": "code",
   "execution_count": 6,
   "metadata": {
    "scrolled": true
   },
   "outputs": [
    {
     "name": "stdout",
     "output_type": "stream",
     "text": [
      "0.8350515463917525\n",
      "0.8350515463917525\n"
     ]
    }
   ],
   "source": [
    "text = \"hello spam\"\n",
    "\n",
    "probs_if_spam = [\n",
    "    (1 + 0.5) / (1 + 2 * 0.5),     # spam (present)\n",
    "    1 - (0 + 0.5) / (1 + 2 * 0.5), # ham (not present)\n",
    "    1 - (1 + 0.5) / (1 + 2 * 0.5), # rules (not present)\n",
    "    (0 + 0.5) / (1 + 2 * 0.5)      # hello (present)\n",
    "]\n",
    "\n",
    "probs_if_ham = [\n",
    "    (0 + 0.5) / (2 + 2 * 0.5),     # spam (present)\n",
    "    1 - (2 + 0.5) / (2 + 2 * 0.5), # ham (not present)\n",
    "    1 - (1 + 0.5) / (2 + 2 * 0.5), # rules (not present)\n",
    "    (1 + 0.5) / (2 + 2 * 0.5)      # hello (present)\n",
    "]\n",
    "\n",
    "p_if_spam = math.exp(sum(math.log(p) for p in probs_if_spam))\n",
    "p_if_ham = math.exp(sum(math.log(p) for p in probs_if_ham))\n",
    "\n",
    "# Should be about 0.83\n",
    "# assert model.predict(text) == p_if_spam / (p_if_spam + p_if_ham)\n",
    "print(p_if_spam / (p_if_spam + p_if_ham))\n",
    "print(model.predict(text))"
   ]
  },
  {
   "cell_type": "code",
   "execution_count": 7,
   "metadata": {},
   "outputs": [],
   "source": [
    "# Naive Bayes - test with a dataset\n",
    "\n",
    "import glob, re\n",
    "\n",
    "path = 'data/spam_data/*/*'\n",
    "\n",
    "\"\"\"\n",
    "easy_ham sub-directory: https://spamassassin.apache.org/old/publiccorpus/20021010_easy_ham.tar.bz2\n",
    "hard_ham sub-directory: https://spamassassin.apache.org/old/publiccorpus/20021010_hard_ham.tar.bz2\n",
    "spam     sub-directory: https://spamassassin.apache.org/old/publiccorpus/20021010_spam.tar.bz2\n",
    "\"\"\"\n",
    "\n",
    "data: List[Message] = []\n",
    "\n",
    "for filename in glob.glob(path):\n",
    "    is_spam = \"ham\" not in filename\n",
    "    \n",
    "    with open(filename, errors='ignore') as email_file:\n",
    "        for line in email_file:\n",
    "            if line.startswith(\"Subject:\"):\n",
    "                subject = line.lstrip(\"Subject: \")\n",
    "                data.append(Message(subject, is_spam)) # we only see subject line\n",
    "                break # done with this file"
   ]
  },
  {
   "cell_type": "code",
   "execution_count": 8,
   "metadata": {},
   "outputs": [
    {
     "data": {
      "text/plain": [
       "Counter({(False, False): 670,\n",
       "         (True, False): 40,\n",
       "         (True, True): 86,\n",
       "         (False, True): 29})"
      ]
     },
     "execution_count": 8,
     "metadata": {},
     "output_type": "execute_result"
    }
   ],
   "source": [
    "import random\n",
    "from collections import Counter\n",
    "\n",
    "random.seed(0)\n",
    "train_messages, test_messages = split_data(data, 0.75)\n",
    "\n",
    "# Train\n",
    "model = NaiveBayesClassifier()\n",
    "model.train(train_messages)\n",
    "\n",
    "# Test\n",
    "predictions = [(message, model.predict(message.text)) \n",
    "               for message in test_messages]\n",
    "\n",
    "confusion_matrix = Counter((message.is_spam, spam_probability > 0.5) \n",
    "                           for message, spam_probability in predictions)\n",
    "\n",
    "confusion_matrix"
   ]
  },
  {
   "cell_type": "code",
   "execution_count": 9,
   "metadata": {},
   "outputs": [
    {
     "name": "stdout",
     "output_type": "stream",
     "text": [
      "Precision: 0.7478260869565218\n",
      "Recall: 0.6825396825396826\n",
      "F1: 0.7136929460580913\n"
     ]
    }
   ],
   "source": [
    "TP = confusion_matrix[(True, True)]\n",
    "FP = confusion_matrix[(False, True)]\n",
    "FN = confusion_matrix[(True, False)]\n",
    "TN = confusion_matrix[(False, False)]\n",
    "\n",
    "print(\"Precision:\", precision(TP, FP, FN, TN))\n",
    "print(\"Recall:\", recall(TP, FP, FN, TN))\n",
    "print(\"F1:\", f1_score(TP, FP, FN, TN))"
   ]
  },
  {
   "cell_type": "code",
   "execution_count": 10,
   "metadata": {},
   "outputs": [
    {
     "name": "stdout",
     "output_type": "stream",
     "text": [
      "Top 10 spammiest words ['assistance', 'attn', '95', 'clearance', 'per', 'money', 'rates', 'sale', 'systemworks', 'adv']\n",
      "Top 10 hammiest words ['spambayes', 'users', 'razor', 'zzzzteana', 'sadev', 'apt', 'perl', 'ouch', 'spamassassin', 'bliss']\n"
     ]
    }
   ],
   "source": [
    "def p_spam_given_token(token: str, model: NaiveBayesClassifier) -> float:\n",
    "    prob_if_spam, prob_if_ham = model._probabilities(token)\n",
    "    \n",
    "    return prob_if_spam / (prob_if_spam + prob_if_ham)\n",
    "\n",
    "words = sorted(model.tokens, key=lambda t: p_spam_given_token(t, model))\n",
    "\n",
    "print(\"Top 10 spammiest words\", words[-10:])\n",
    "print(\"Top 10 hammiest words\", words[:10])"
   ]
  },
  {
   "cell_type": "code",
   "execution_count": 11,
   "metadata": {},
   "outputs": [],
   "source": [
    "def drop_final_s(word):\n",
    "    return re.sub(\"s$\", \"\", word)\n",
    "\n",
    "assert drop_final_s(\"plays\") == \"play\""
   ]
  }
 ],
 "metadata": {
  "kernelspec": {
   "display_name": "Python 3",
   "language": "python",
   "name": "python3"
  },
  "language_info": {
   "codemirror_mode": {
    "name": "ipython",
    "version": 3
   },
   "file_extension": ".py",
   "mimetype": "text/x-python",
   "name": "python",
   "nbconvert_exporter": "python",
   "pygments_lexer": "ipython3",
   "version": "3.6.12"
  }
 },
 "nbformat": 4,
 "nbformat_minor": 4
}
