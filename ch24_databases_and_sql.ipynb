{
 "cells": [
  {
   "cell_type": "code",
   "execution_count": 1,
   "metadata": {},
   "outputs": [],
   "source": [
    "# Table\n",
    "\n",
    "from typing import Tuple, Sequence, List, Any, Callable, Dict, Iterator\n",
    "from collections import defaultdict\n",
    "\n",
    "# A few type aliases we'll use later\n",
    "Row = Dict[str, Any]                       # A database row\n",
    "WhereClause = Callable[[Row], bool]        # Predicate for a single row\n",
    "HavingClause = Callable[[List[Row]], bool] # Predicate over multiple rows\n",
    "\n",
    "class Table:\n",
    "    \n",
    "    def __init__(self, columns: List[str], types: List[type]) -> None:\n",
    "        assert len(columns) == len(types), \"# of columns must == # of types\"\n",
    "        \n",
    "        self.columns = columns          # Names of columns\n",
    "        self.types = types              # Data types of columns\n",
    "        self.rows: List[Row] = []       # (no data yet)\n",
    "            \n",
    "    def __getitem__(self, idx: int) -> Row:\n",
    "        return self.rows[idx]\n",
    "    \n",
    "    def __iter__(self) -> Iterator[Row]:\n",
    "        return iter(self.rows)\n",
    "    \n",
    "    def __len__(self) -> int:\n",
    "        return len(self.rows)\n",
    "    \n",
    "    def __repr__(self):\n",
    "        \"\"\"Pretty representation of the table: columns then rows\"\"\"\n",
    "        rows = \"\\n\".join(str(row) for row in self.rows)\n",
    "        return f\"{self.columns}\\n{rows}\"\n",
    "            \n",
    "    def col2type(self, col: str) -> type:\n",
    "        idx = self.columns.index(col)   # find the index of the column\n",
    "        return self.types[idx]          # and return its type\n",
    "    \n",
    "    def insert(self, values: list) -> None:\n",
    "        # Check for right # of values\n",
    "        if len(values) != len(self.types):\n",
    "            raise ValueError(f\"You need to provide {len(self.types)} values\")\n",
    "\n",
    "        # Check for right types of values\n",
    "        for value, typ3 in zip(values, self.types):\n",
    "            if not isinstance(value, typ3) and value is not None:\n",
    "                raise TypeError(f\"Expected type {typ3} but got {value}\")\n",
    "\n",
    "        # Add the corresponding dict as a \"row\"\n",
    "        self.rows.append(dict(zip(self.columns, values)))\n",
    "        \n",
    "    def update(self, \n",
    "               updates: Dict[str, Any], \n",
    "               predicate: WhereClause = lambda row: True):\n",
    "        \n",
    "        # First make sure the updates have valid names and types\n",
    "        for column, new_value in updates.items():\n",
    "            if column not in self.columns:\n",
    "                raise ValueError(f\"Invalid column: {column}\")\n",
    "            \n",
    "            typ3 = self.col2type(column)\n",
    "            if not isinstance(new_value, typ3) and new_value is not None:\n",
    "                raise TypeError(f\"Expected type {typ3} but got {new_value}\")\n",
    "        \n",
    "        # Now update\n",
    "        for row in self.rows:\n",
    "            if predicate(row):\n",
    "                for column, new_value in updates.items():\n",
    "                    row[column] = new_value\n",
    "                    \n",
    "    def delete(self, predicate: WhereClause = lambda row: True) -> None:\n",
    "        \"\"\"Delete all rows matching predicate\"\"\"\n",
    "        self.rows = [row for row in self.rows if not predicate(row)]\n",
    "        \n",
    "    def select(self, \n",
    "               keep_columns: List[str] = None, \n",
    "               additional_columns: Dict[str, Callable] = None) -> 'Table':\n",
    "        \n",
    "        if keep_columns is None:          # If no columns specified,\n",
    "            keep_columns = self.columns   # return all columns\n",
    "        \n",
    "        if additional_columns is None:\n",
    "            additional_columns = {}\n",
    "            \n",
    "        # New column names and types\n",
    "        new_columns = keep_columns + list(additional_columns.keys())\n",
    "        keep_types = [self.col2type(col) for col in keep_columns]\n",
    "        \n",
    "        # This is how to get the return type from a type annotation.\n",
    "        # It will crash if `calculation` doesn't have a return type.\n",
    "        add_types = [calculation.__annotations__['return'] \n",
    "                     for calculation in additional_columns.values()]\n",
    "        \n",
    "        # Create a new table from results\n",
    "        new_table = Table(new_columns, keep_types + add_types)\n",
    "        \n",
    "        for row in self.rows:\n",
    "            new_row = [row[column] for column in keep_columns]\n",
    "            \n",
    "            for column_name, calculation in additional_columns.items():\n",
    "                new_row.append(calculation(row))\n",
    "                \n",
    "            new_table.insert(new_row)\n",
    "        \n",
    "        return new_table\n",
    "    \n",
    "    def where(self, predicate: WhereClause = lambda row: True) -> 'Table':\n",
    "        \"\"\"Return only the rows that satisfy the supplied predicate\"\"\"\n",
    "        where_table = Table(self.columns, self.types)\n",
    "        \n",
    "        for row in self.rows:\n",
    "            if predicate(row):\n",
    "                values = [row[column] for column in self.columns]\n",
    "                where_table.insert(values)\n",
    "        \n",
    "        return where_table\n",
    "    \n",
    "    def limit(self, num_rows: int) -> 'Table':\n",
    "        \"\"\"Return only the first `num_rows` rows\"\"\"\n",
    "        limit_table = Table(self.columns, self.types)\n",
    "        \n",
    "        for i, row in enumerate(self.rows):\n",
    "            if i >= num_rows:\n",
    "                break\n",
    "            \n",
    "            values = [row[column] for column in self.columns]\n",
    "            limit_table.insert(values)\n",
    "        \n",
    "        return limit_table\n",
    "    \n",
    "    def group_by(self,\n",
    "                 group_by_columns: List[str],\n",
    "                 aggregates: Dict[str, Callable],\n",
    "                 having: HavingClause = lambda group: True) -> 'Table':\n",
    "\n",
    "        grouped_rows = defaultdict(list)\n",
    "\n",
    "        # Populate groups\n",
    "        for row in self.rows:\n",
    "            key = tuple(row[column] for column in group_by_columns)\n",
    "            grouped_rows[key].append(row)\n",
    "\n",
    "        # Result table consists of group_by columns and aggregates\n",
    "        new_columns = group_by_columns + list(aggregates.keys())\n",
    "        group_by_types = [self.col2type(col) for col in group_by_columns]\n",
    "        aggregate_types = [agg.__annotations__['return']\n",
    "                           for agg in aggregates.values()]\n",
    "        result_table = Table(new_columns, group_by_types + aggregate_types)\n",
    "\n",
    "        for key, rows in grouped_rows.items():\n",
    "            if having(rows):\n",
    "                new_row = list(key)\n",
    "                for aggregate_name, aggregate_fn in aggregates.items():\n",
    "                    new_row.append(aggregate_fn(rows))\n",
    "                result_table.insert(new_row)\n",
    "\n",
    "        return result_table\n",
    "\n",
    "    def order_by(self, order: Callable[[Row], Any]) -> 'Table':\n",
    "        new_table = self.select()       # make a copy\n",
    "        new_table.rows.sort(key=order)\n",
    "        return new_table\n",
    "\n",
    "    def join(self, other_table: 'Table', left_join: bool = False) -> 'Table':\n",
    "\n",
    "        join_on_columns = [c for c in self.columns           # columns in\n",
    "                           if c in other_table.columns]      # both tables\n",
    "\n",
    "        additional_columns = [c for c in other_table.columns # columns only\n",
    "                              if c not in join_on_columns]   # in right table\n",
    "\n",
    "        # all columns from left table + additional_columns from right table\n",
    "        new_columns = self.columns + additional_columns\n",
    "        new_types = self.types + [other_table.col2type(col)\n",
    "                                  for col in additional_columns]\n",
    "\n",
    "        join_table = Table(new_columns, new_types)\n",
    "\n",
    "        for row in self.rows:\n",
    "            def is_join(other_row):\n",
    "                return all(other_row[c] == row[c] for c in join_on_columns)\n",
    "\n",
    "            other_rows = other_table.where(is_join).rows\n",
    "\n",
    "            # Each other row that matches this one produces a result row.\n",
    "            for other_row in other_rows:\n",
    "                join_table.insert([row[c] for c in self.columns] +\n",
    "                                  [other_row[c] for c in additional_columns])\n",
    "\n",
    "            # If no rows match and it's a left join, output with Nones.\n",
    "            if left_join and not other_rows:\n",
    "                join_table.insert([row[c] for c in self.columns] +\n",
    "                                  [None for c in additional_columns])\n",
    "\n",
    "        return join_table    "
   ]
  },
  {
   "cell_type": "code",
   "execution_count": 2,
   "metadata": {},
   "outputs": [],
   "source": [
    "# Constructor requires column names and types\n",
    "users = Table(['user_id', 'name', 'num_friends'], [int, str, int])\n",
    "users.insert([0, \"Hero\", 0])\n",
    "users.insert([1, \"Dunn\", 2])\n",
    "users.insert([2, \"Sue\", 3])\n",
    "users.insert([3, \"Chi\", 3])\n",
    "users.insert([4, \"Thor\", 3])\n",
    "users.insert([5, \"Clive\", 2])\n",
    "users.insert([6, \"Hicks\", 3])\n",
    "users.insert([7, \"Devin\", 2])\n",
    "users.insert([8, \"Kate\", 2])\n",
    "users.insert([9, \"Klein\", 3])\n",
    "users.insert([10, \"Jen\", 1])"
   ]
  },
  {
   "cell_type": "code",
   "execution_count": 3,
   "metadata": {
    "scrolled": true
   },
   "outputs": [
    {
     "name": "stdout",
     "output_type": "stream",
     "text": [
      "['user_id', 'name', 'num_friends']\n",
      "{'user_id': 0, 'name': 'Hero', 'num_friends': 0}\n",
      "{'user_id': 1, 'name': 'Dunn', 'num_friends': 2}\n",
      "{'user_id': 2, 'name': 'Sue', 'num_friends': 3}\n",
      "{'user_id': 3, 'name': 'Chi', 'num_friends': 3}\n",
      "{'user_id': 4, 'name': 'Thor', 'num_friends': 3}\n",
      "{'user_id': 5, 'name': 'Clive', 'num_friends': 2}\n",
      "{'user_id': 6, 'name': 'Hicks', 'num_friends': 3}\n",
      "{'user_id': 7, 'name': 'Devin', 'num_friends': 2}\n",
      "{'user_id': 8, 'name': 'Kate', 'num_friends': 2}\n",
      "{'user_id': 9, 'name': 'Klein', 'num_friends': 3}\n",
      "{'user_id': 10, 'name': 'Jen', 'num_friends': 1}\n"
     ]
    }
   ],
   "source": [
    "print(users)"
   ]
  },
  {
   "cell_type": "code",
   "execution_count": 4,
   "metadata": {},
   "outputs": [],
   "source": [
    "assert len(users) == 11\n",
    "assert users[1]['name'] == 'Dunn'"
   ]
  },
  {
   "cell_type": "code",
   "execution_count": 5,
   "metadata": {},
   "outputs": [],
   "source": [
    "assert users[1]['num_friends'] == 2 # original value\n",
    "\n",
    "users.update({'num_friends' : 3}, \n",
    "             lambda row: row['user_id'] == 1)\n",
    "\n",
    "assert users[1]['num_friends'] == 3 # updated value"
   ]
  },
  {
   "cell_type": "code",
   "execution_count": 6,
   "metadata": {},
   "outputs": [
    {
     "data": {
      "text/plain": [
       "['user_id', 'name', 'num_friends']\n",
       "{'user_id': 0, 'name': 'Hero', 'num_friends': 0}\n",
       "{'user_id': 1, 'name': 'Dunn', 'num_friends': 3}\n",
       "{'user_id': 2, 'name': 'Sue', 'num_friends': 3}\n",
       "{'user_id': 3, 'name': 'Chi', 'num_friends': 3}\n",
       "{'user_id': 4, 'name': 'Thor', 'num_friends': 3}\n",
       "{'user_id': 5, 'name': 'Clive', 'num_friends': 2}\n",
       "{'user_id': 6, 'name': 'Hicks', 'num_friends': 3}\n",
       "{'user_id': 7, 'name': 'Devin', 'num_friends': 2}\n",
       "{'user_id': 8, 'name': 'Kate', 'num_friends': 2}\n",
       "{'user_id': 9, 'name': 'Klein', 'num_friends': 3}\n",
       "{'user_id': 10, 'name': 'Jen', 'num_friends': 1}"
      ]
     },
     "execution_count": 6,
     "metadata": {},
     "output_type": "execute_result"
    }
   ],
   "source": [
    "# SQL test\n",
    "\n",
    "# SELECT * FROM users;\n",
    "all_users = users.select()\n",
    "assert len(all_users) == 11\n",
    "\n",
    "all_users"
   ]
  },
  {
   "cell_type": "code",
   "execution_count": 7,
   "metadata": {},
   "outputs": [
    {
     "data": {
      "text/plain": [
       "['user_id', 'name', 'num_friends']\n",
       "{'user_id': 0, 'name': 'Hero', 'num_friends': 0}\n",
       "{'user_id': 1, 'name': 'Dunn', 'num_friends': 3}"
      ]
     },
     "execution_count": 7,
     "metadata": {},
     "output_type": "execute_result"
    }
   ],
   "source": [
    "# SELECT * FROM users LIMIT 2;\n",
    "two_users = users.limit(2)\n",
    "assert len(two_users) == 2\n",
    "\n",
    "two_users"
   ]
  },
  {
   "cell_type": "code",
   "execution_count": 8,
   "metadata": {},
   "outputs": [
    {
     "data": {
      "text/plain": [
       "['user_id']\n",
       "{'user_id': 0}\n",
       "{'user_id': 1}\n",
       "{'user_id': 2}\n",
       "{'user_id': 3}\n",
       "{'user_id': 4}\n",
       "{'user_id': 5}\n",
       "{'user_id': 6}\n",
       "{'user_id': 7}\n",
       "{'user_id': 8}\n",
       "{'user_id': 9}\n",
       "{'user_id': 10}"
      ]
     },
     "execution_count": 8,
     "metadata": {},
     "output_type": "execute_result"
    }
   ],
   "source": [
    "# SELECT user_id FROM users;\n",
    "just_ids = users.select(keep_columns=[\"user_id\"])\n",
    "assert just_ids.columns == ['user_id']\n",
    "\n",
    "just_ids"
   ]
  },
  {
   "cell_type": "code",
   "execution_count": 9,
   "metadata": {},
   "outputs": [
    {
     "data": {
      "text/plain": [
       "['user_id']\n",
       "{'user_id': 1}"
      ]
     },
     "execution_count": 9,
     "metadata": {},
     "output_type": "execute_result"
    }
   ],
   "source": [
    "# SELECT user_id FROM users WHERE name = 'Dunn';\n",
    "dunn_ids = (users\n",
    "            .where(lambda row: row[\"name\"] == \"Dunn\")\n",
    "            .select(keep_columns=[\"user_id\"]))\n",
    "assert len(dunn_ids) == 1\n",
    "assert dunn_ids[0] == {\"user_id\": 1}\n",
    "\n",
    "dunn_ids"
   ]
  },
  {
   "cell_type": "code",
   "execution_count": 10,
   "metadata": {
    "scrolled": true
   },
   "outputs": [
    {
     "data": {
      "text/plain": [
       "['name_length']\n",
       "{'name_length': 4}\n",
       "{'name_length': 4}\n",
       "{'name_length': 3}\n",
       "{'name_length': 3}\n",
       "{'name_length': 4}\n",
       "{'name_length': 5}\n",
       "{'name_length': 5}\n",
       "{'name_length': 5}\n",
       "{'name_length': 4}\n",
       "{'name_length': 5}\n",
       "{'name_length': 3}"
      ]
     },
     "execution_count": 10,
     "metadata": {},
     "output_type": "execute_result"
    }
   ],
   "source": [
    "# SELECT LENGTH(name) AS name_length FROM users;\n",
    "def name_length(row) -> int:\n",
    "    return len(row[\"name\"])\n",
    "\n",
    "name_lengths = users.select(keep_columns=[], \n",
    "                            additional_columns={\"name_length\": name_length})\n",
    "assert name_lengths[0]['name_length'] == len(\"Hero\")\n",
    "\n",
    "name_lengths"
   ]
  },
  {
   "cell_type": "code",
   "execution_count": 11,
   "metadata": {},
   "outputs": [
    {
     "data": {
      "text/plain": [
       "['name_length', 'min_user_id', 'num_users']\n",
       "{'name_length': 4, 'min_user_id': 0, 'num_users': 4}\n",
       "{'name_length': 3, 'min_user_id': 2, 'num_users': 3}\n",
       "{'name_length': 5, 'min_user_id': 5, 'num_users': 4}"
      ]
     },
     "execution_count": 11,
     "metadata": {},
     "output_type": "execute_result"
    }
   ],
   "source": [
    "# GROUP BY\n",
    "\n",
    "def min_user_id(rows) -> int:\n",
    "        return min(row[\"user_id\"] for row in rows)\n",
    "    \n",
    "def length(rows) -> int:\n",
    "    return len(rows)\n",
    "\n",
    "stats_by_length = (\n",
    "    users\n",
    "    .select(additional_columns={\"name_length\" : name_length})\n",
    "    .group_by(group_by_columns=[\"name_length\"],\n",
    "              aggregates={\"min_user_id\" : min_user_id,\n",
    "                          \"num_users\" : length})\n",
    ")\n",
    "\n",
    "assert len(stats_by_length) == 3\n",
    "assert stats_by_length.columns == [\"name_length\", \"min_user_id\", \"num_users\"]\n",
    "\n",
    "stats_by_length"
   ]
  },
  {
   "cell_type": "code",
   "execution_count": 12,
   "metadata": {},
   "outputs": [
    {
     "data": {
      "text/plain": [
       "['first_letter', 'avg_num_friends']\n",
       "{'first_letter': 'H', 'avg_num_friends': 1.5}\n",
       "{'first_letter': 'D', 'avg_num_friends': 2.5}\n",
       "{'first_letter': 'S', 'avg_num_friends': 3.0}\n",
       "{'first_letter': 'C', 'avg_num_friends': 2.5}\n",
       "{'first_letter': 'T', 'avg_num_friends': 3.0}\n",
       "{'first_letter': 'K', 'avg_num_friends': 2.5}"
      ]
     },
     "execution_count": 12,
     "metadata": {},
     "output_type": "execute_result"
    }
   ],
   "source": [
    "def first_letter_of_name(row: Row) -> str:\n",
    "        return row[\"name\"][0] if row[\"name\"] else \"\"\n",
    "    \n",
    "def average_num_friends(rows: List[Row]) -> float:\n",
    "    return sum(row[\"num_friends\"] for row in rows) / len(rows)\n",
    "\n",
    "def enough_friends(rows: List[Row]) -> bool:\n",
    "    return average_num_friends(rows) > 1\n",
    "\n",
    "avg_friends_by_letter = (\n",
    "    users\n",
    "    .select(additional_columns={'first_letter' : first_letter_of_name})\n",
    "    .group_by(group_by_columns=['first_letter'],\n",
    "              aggregates={\"avg_num_friends\" : average_num_friends},\n",
    "              having=enough_friends)\n",
    ")\n",
    "\n",
    "assert len(avg_friends_by_letter) == 6\n",
    "assert {row['first_letter'] for row in avg_friends_by_letter} == \\\n",
    "       {\"H\", \"D\", \"S\", \"C\", \"T\", \"K\"}\n",
    "\n",
    "avg_friends_by_letter"
   ]
  },
  {
   "cell_type": "code",
   "execution_count": 13,
   "metadata": {},
   "outputs": [
    {
     "data": {
      "text/plain": [
       "['user_id_sum']\n",
       "{'user_id_sum': 54}"
      ]
     },
     "execution_count": 13,
     "metadata": {},
     "output_type": "execute_result"
    }
   ],
   "source": [
    "def sum_user_ids(rows: List[Row]) -> int:\n",
    "    return sum(row[\"user_id\"] for row in rows)\n",
    "\n",
    "user_id_sum = (\n",
    "    users\n",
    "    .where(lambda row: row[\"user_id\"] > 1)\n",
    "    .group_by(group_by_columns=[],\n",
    "              aggregates={ \"user_id_sum\" : sum_user_ids })\n",
    ")\n",
    "\n",
    "assert len(user_id_sum) == 1\n",
    "assert user_id_sum[0][\"user_id_sum\"] == 54\n",
    "\n",
    "user_id_sum"
   ]
  },
  {
   "cell_type": "code",
   "execution_count": 14,
   "metadata": {},
   "outputs": [
    {
     "data": {
      "text/plain": [
       "['first_letter', 'avg_num_friends']\n",
       "{'first_letter': 'S', 'avg_num_friends': 3.0}\n",
       "{'first_letter': 'T', 'avg_num_friends': 3.0}\n",
       "{'first_letter': 'D', 'avg_num_friends': 2.5}\n",
       "{'first_letter': 'C', 'avg_num_friends': 2.5}"
      ]
     },
     "execution_count": 14,
     "metadata": {},
     "output_type": "execute_result"
    }
   ],
   "source": [
    "# ORDER BY\n",
    "\n",
    "friendliest_letters = (\n",
    "    avg_friends_by_letter\n",
    "    .order_by(lambda row: -row[\"avg_num_friends\"])\n",
    "    .limit(4)\n",
    ")\n",
    "\n",
    "assert len(friendliest_letters) == 4\n",
    "assert friendliest_letters[0]['first_letter'] in ['S', 'T']\n",
    "\n",
    "friendliest_letters"
   ]
  },
  {
   "cell_type": "code",
   "execution_count": 15,
   "metadata": {},
   "outputs": [
    {
     "data": {
      "text/plain": [
       "['name']\n",
       "{'name': 'Hero'}\n",
       "{'name': 'Sue'}"
      ]
     },
     "execution_count": 15,
     "metadata": {},
     "output_type": "execute_result"
    }
   ],
   "source": [
    "# JOIN\n",
    "\n",
    "user_interests = Table(['user_id', 'interest'], [int, str])\n",
    "user_interests.insert([0, \"SQL\"])\n",
    "user_interests.insert([0, \"NoSQL\"])\n",
    "user_interests.insert([2, \"SQL\"])\n",
    "user_interests.insert([2, \"MySQL\"])\n",
    "\n",
    "sql_users = (\n",
    "    users\n",
    "    .join(user_interests)\n",
    "    .where(lambda row: row[\"interest\"] == \"SQL\")\n",
    "    .select(keep_columns=[\"name\"])\n",
    ")\n",
    "\n",
    "assert len(sql_users) == 2\n",
    "sql_user_names = {row[\"name\"] for row in sql_users}\n",
    "assert sql_user_names == {\"Hero\", \"Sue\"}\n",
    "\n",
    "sql_users"
   ]
  },
  {
   "cell_type": "code",
   "execution_count": 16,
   "metadata": {},
   "outputs": [
    {
     "data": {
      "text/plain": [
       "['user_id', 'num_interests']\n",
       "{'user_id': 0, 'num_interests': 2}\n",
       "{'user_id': 1, 'num_interests': 0}\n",
       "{'user_id': 2, 'num_interests': 2}\n",
       "{'user_id': 3, 'num_interests': 0}\n",
       "{'user_id': 4, 'num_interests': 0}\n",
       "{'user_id': 5, 'num_interests': 0}\n",
       "{'user_id': 6, 'num_interests': 0}\n",
       "{'user_id': 7, 'num_interests': 0}\n",
       "{'user_id': 8, 'num_interests': 0}\n",
       "{'user_id': 9, 'num_interests': 0}\n",
       "{'user_id': 10, 'num_interests': 0}"
      ]
     },
     "execution_count": 16,
     "metadata": {},
     "output_type": "execute_result"
    }
   ],
   "source": [
    "def count_interests(rows: List[Row]) -> int:\n",
    "    \"\"\"counts how many rows have non-None interests\"\"\"\n",
    "    return len([row for row in rows if row[\"interest\"] is not None])\n",
    "\n",
    "user_interest_counts = (\n",
    "    users\n",
    "    .join(user_interests, left_join=True)\n",
    "    .group_by(group_by_columns=[\"user_id\"],\n",
    "              aggregates={\"num_interests\" : count_interests })\n",
    ")\n",
    "\n",
    "user_interest_counts"
   ]
  },
  {
   "cell_type": "code",
   "execution_count": 17,
   "metadata": {},
   "outputs": [
    {
     "data": {
      "text/plain": [
       "['user_id']\n",
       "{'user_id': 0}\n",
       "{'user_id': 2}"
      ]
     },
     "execution_count": 17,
     "metadata": {},
     "output_type": "execute_result"
    }
   ],
   "source": [
    "# Subqueries\n",
    "\n",
    "likes_sql_user_ids = (\n",
    "    user_interests\n",
    "    .where(lambda row: row[\"interest\"] == \"SQL\")\n",
    "    .select(keep_columns=['user_id'])\n",
    ")\n",
    "\n",
    "likes_sql_user_ids.group_by(group_by_columns=[],\n",
    "                            aggregates={ \"min_user_id\" : min_user_id })\n",
    "\n",
    "assert len(likes_sql_user_ids) == 2\n",
    "\n",
    "likes_sql_user_ids"
   ]
  },
  {
   "cell_type": "code",
   "execution_count": 18,
   "metadata": {},
   "outputs": [
    {
     "data": {
      "text/plain": [
       "['name']\n",
       "{'name': 'Hero'}\n",
       "{'name': 'Sue'}"
      ]
     },
     "execution_count": 18,
     "metadata": {},
     "output_type": "execute_result"
    }
   ],
   "source": [
    "(\n",
    "    user_interests\n",
    "    .where(lambda row: row[\"interest\"] == \"SQL\")\n",
    "    .join(users)\n",
    "    .select([\"name\"])\n",
    ")\n",
    "\n",
    "(\n",
    "    user_interests\n",
    "    .join(users)\n",
    "    .where(lambda row: row[\"interest\"] == \"SQL\")\n",
    "    .select([\"name\"])\n",
    ")"
   ]
  }
 ],
 "metadata": {
  "kernelspec": {
   "display_name": "Python 3",
   "language": "python",
   "name": "python3"
  },
  "language_info": {
   "codemirror_mode": {
    "name": "ipython",
    "version": 3
   },
   "file_extension": ".py",
   "mimetype": "text/x-python",
   "name": "python",
   "nbconvert_exporter": "python",
   "pygments_lexer": "ipython3",
   "version": "3.6.12"
  }
 },
 "nbformat": 4,
 "nbformat_minor": 4
}
