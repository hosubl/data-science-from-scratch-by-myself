{
 "cells": [
  {
   "cell_type": "code",
   "execution_count": 1,
   "metadata": {},
   "outputs": [],
   "source": [
    "# Word Count\n",
    "\n",
    "from typing import List\n",
    "from collections import Counter\n",
    "\n",
    "def tokenize(document: str) -> List[str]:\n",
    "    \"\"\"Just split on whitespace\"\"\"\n",
    "    \n",
    "    return document.split()\n",
    "\n",
    "def word_count_old(documents: List[str]):\n",
    "    \"\"\"Word count not using MapReduce\"\"\"\n",
    "    \n",
    "    return Counter(word \n",
    "                   for document in documents \n",
    "                   for word in tokenize(document))"
   ]
  },
  {
   "cell_type": "code",
   "execution_count": 2,
   "metadata": {},
   "outputs": [],
   "source": [
    "# Map\n",
    "\n",
    "from typing import Iterator, Tuple\n",
    "\n",
    "def wc_mapper(document: str) -> Iterator[Tuple[str, int]]:\n",
    "    \"\"\"For each word in the document, emit (word, 1)\"\"\"\n",
    "    for word in tokenize(document):\n",
    "        yield (word, 1)"
   ]
  },
  {
   "cell_type": "code",
   "execution_count": 3,
   "metadata": {},
   "outputs": [],
   "source": [
    "# Reduce\n",
    "\n",
    "from typing import Iterable\n",
    "\n",
    "def wc_reducer(word: str, \n",
    "               counts: Iterable[int]) -> Iterator[Tuple[str, int]]:\n",
    "    \"\"\"Sum up the counts for a word\"\"\"\n",
    "    yield (word, sum(counts))"
   ]
  },
  {
   "cell_type": "code",
   "execution_count": 4,
   "metadata": {},
   "outputs": [],
   "source": [
    "from collections import defaultdict\n",
    "\n",
    "def word_count(documents: List[str]) -> List[Tuple[str, int]]:\n",
    "    \"\"\"Count the words in the input documents using MapReduce\"\"\"\n",
    "    \n",
    "    collector = defaultdict(list) # To store grouped values\n",
    "    \n",
    "    for document in documents:\n",
    "        for word, count in wc_mapper(document):\n",
    "            collector[word].append(count)\n",
    "            \n",
    "    return [output \n",
    "            for word, counts in collector.items() \n",
    "            for output in wc_reducer(word, counts)]"
   ]
  },
  {
   "cell_type": "code",
   "execution_count": 5,
   "metadata": {
    "scrolled": true
   },
   "outputs": [
    {
     "data": {
      "text/plain": [
       "[('data', 2), ('science', 2), ('big', 1), ('fiction', 1)]"
      ]
     },
     "execution_count": 5,
     "metadata": {},
     "output_type": "execute_result"
    }
   ],
   "source": [
    "word_count([\"data science\", \"big data\", \"science fiction\"])"
   ]
  },
  {
   "cell_type": "code",
   "execution_count": 6,
   "metadata": {},
   "outputs": [],
   "source": [
    "# General MapReduce\n",
    "\n",
    "from typing import Callable, Iterable, Any, Tuple\n",
    "\n",
    "# A key-value pair is just a 2-tuple\n",
    "KV = Tuple[Any, Any]\n",
    "\n",
    "# A Mapper is a function that returns an Iterable of key-value pairs\n",
    "Mapper = Callable[..., Iterable[KV]]\n",
    "\n",
    "# A Reducer is a function that takes a key and an iterable of values\n",
    "# and returns a key-value pair\n",
    "Reducer = Callable[[Any, Iterable], KV]\n",
    "\n",
    "def map_reduce(inputs: Iterable,\n",
    "               mapper: Mapper,\n",
    "               reducer: Reducer) -> List[KV]:\n",
    "    \"\"\"Run MapReduce on the inputs using mapper and reducer\"\"\"\n",
    "    collector = defaultdict(list)\n",
    "\n",
    "    for input in inputs:\n",
    "        for key, value in mapper(input):\n",
    "            collector[key].append(value)\n",
    "\n",
    "    return [output\n",
    "            for key, values in collector.items()\n",
    "            for output in reducer(key, values)]"
   ]
  },
  {
   "cell_type": "code",
   "execution_count": 7,
   "metadata": {
    "scrolled": true
   },
   "outputs": [
    {
     "data": {
      "text/plain": [
       "[('data', 2), ('science', 2), ('big', 1), ('fiction', 1)]"
      ]
     },
     "execution_count": 7,
     "metadata": {},
     "output_type": "execute_result"
    }
   ],
   "source": [
    "word_counts = map_reduce([\"data science\", \"big data\", \"science fiction\"], wc_mapper, wc_reducer)\n",
    "word_counts"
   ]
  },
  {
   "cell_type": "code",
   "execution_count": 8,
   "metadata": {},
   "outputs": [],
   "source": [
    "def values_reducer(values_fn: Callable) -> Reducer:\n",
    "    \"\"\"Return a reducer that just applies values_fn to its values\"\"\"\n",
    "    \n",
    "    def reduce(key, values: Iterable) -> KV:\n",
    "        return (key, values_fn(values))\n",
    "    \n",
    "    return reduce"
   ]
  },
  {
   "cell_type": "code",
   "execution_count": 9,
   "metadata": {},
   "outputs": [],
   "source": [
    "sum_reducer = values_reducer(sum)\n",
    "max_reducer = values_reducer(max)\n",
    "min_reducer = values_reducer(min)\n",
    "count_distinct_reducer = values_reducer(lambda values: len(set(values)))\n",
    "\n",
    "assert sum_reducer(\"key\", [1, 2, 3, 3]) == (\"key\", 9)\n",
    "assert min_reducer(\"key\", [1, 2, 3, 3]) == (\"key\", 1)\n",
    "assert max_reducer(\"key\", [1, 2, 3, 3]) == (\"key\", 3)\n",
    "assert count_distinct_reducer(\"key\", [1, 2, 3, 3]) == (\"key\", 3)"
   ]
  },
  {
   "cell_type": "code",
   "execution_count": 10,
   "metadata": {},
   "outputs": [],
   "source": [
    "import datetime\n",
    "\n",
    "status_updates = [\n",
    "    {\"id\": 3, \n",
    "     \"username\" : \"joelgrus\", \n",
    "     \"text\" : \"Should I write a second second edition of my data science book?\", \n",
    "     \"created_at\" : datetime.datetime(2018, 2, 21, 11, 47, 0), \n",
    "     \"liked_by\" : [\"data_guy\", \"data_gal\", \"horus\", \"horus.lee\"]},\n",
    "]"
   ]
  },
  {
   "cell_type": "code",
   "execution_count": 11,
   "metadata": {},
   "outputs": [
    {
     "data": {
      "text/plain": [
       "[2, 1]"
      ]
     },
     "execution_count": 11,
     "metadata": {},
     "output_type": "execute_result"
    }
   ],
   "source": [
    "# Find out which day of the week people talk the most about data science\n",
    "\n",
    "def data_science_day_mapper(status_update: dict) -> Iterable:\n",
    "    \"\"\"Yields (day_of_week, 1) if status_update contains data science\"\"\"\n",
    "    if \"data science\" in status_update[\"text\"].lower():\n",
    "        day_of_week = status_update[\"created_at\"].weekday()\n",
    "        yield (day_of_week, 1)\n",
    "        \n",
    "data_science_days = map_reduce(status_updates, \n",
    "                               data_science_day_mapper, \n",
    "                               sum_reducer) # just reuse\n",
    "\n",
    "data_science_days"
   ]
  },
  {
   "cell_type": "code",
   "execution_count": 12,
   "metadata": {},
   "outputs": [
    {
     "data": {
      "text/plain": [
       "[('joelgrus', ('second', 2))]"
      ]
     },
     "execution_count": 12,
     "metadata": {},
     "output_type": "execute_result"
    }
   ],
   "source": [
    "# Find out for each user the most common word that she puts in her status updates\n",
    "\n",
    "def word_per_user_mapper(status_update: dict):\n",
    "    user = status_update[\"username\"]\n",
    "    for word in tokenize(status_update[\"text\"]):\n",
    "        yield (user, (word, 1))\n",
    "        \n",
    "def most_popular_word_reducer(user: str, \n",
    "                              words_and_counts: Iterable[KV]):\n",
    "    \"\"\"\n",
    "    Given a sequence of (word, count) pairs,\n",
    "    return the word with the highest total count\n",
    "    \"\"\"\n",
    "    word_counts = Counter()\n",
    "    for word, count in words_and_counts:\n",
    "        word_counts[word] += count\n",
    "        \n",
    "    word, count = word_counts.most_common(1)[0]\n",
    "\n",
    "    yield (user, (word, count))\n",
    "\n",
    "user_words = map_reduce(status_updates, \n",
    "                        word_per_user_mapper, \n",
    "                        most_popular_word_reducer)\n",
    " \n",
    "user_words"
   ]
  },
  {
   "cell_type": "code",
   "execution_count": 13,
   "metadata": {},
   "outputs": [
    {
     "data": {
      "text/plain": [
       "['joelgrus', 4]"
      ]
     },
     "execution_count": 13,
     "metadata": {},
     "output_type": "execute_result"
    }
   ],
   "source": [
    "# Find out the number of distinct status-likers for each user\n",
    "\n",
    "def liker_mapper(status_updates: dict):\n",
    "    user = status_updates[\"username\"]\n",
    "    for liker in status_updates[\"liked_by\"]:\n",
    "        yield (user, liker)\n",
    "        \n",
    "distinct_likers_per_user = map_reduce(status_updates, \n",
    "                                      liker_mapper, \n",
    "                                      count_distinct_reducer) # just reuse\n",
    "\n",
    "distinct_likers_per_user"
   ]
  }
 ],
 "metadata": {
  "kernelspec": {
   "display_name": "Python 3",
   "language": "python",
   "name": "python3"
  },
  "language_info": {
   "codemirror_mode": {
    "name": "ipython",
    "version": 3
   },
   "file_extension": ".py",
   "mimetype": "text/x-python",
   "name": "python",
   "nbconvert_exporter": "python",
   "pygments_lexer": "ipython3",
   "version": "3.6.12"
  }
 },
 "nbformat": 4,
 "nbformat_minor": 4
}
