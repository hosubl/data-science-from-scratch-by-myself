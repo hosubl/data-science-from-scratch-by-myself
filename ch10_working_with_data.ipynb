{
 "cells": [
  {
   "cell_type": "code",
   "execution_count": null,
   "metadata": {},
   "outputs": [],
   "source": [
    "%%capture\n",
    "%run ch04_linear_algebra.ipynb\n",
    "%run ch05_statistics.ipynb\n",
    "%run ch06_probability.ipynb"
   ]
  },
  {
   "cell_type": "code",
   "execution_count": null,
   "metadata": {},
   "outputs": [],
   "source": [
    "# 1-D data\n",
    "\n",
    "from typing import List, Dict\n",
    "from collections import Counter\n",
    "import math\n",
    "\n",
    "import matplotlib.pyplot as plt\n",
    "\n",
    "def bucketize(point: float, bucket_size: float) -> float:\n",
    "    \"\"\"Floor the point to the next lower multiple of bucket size\"\"\"\n",
    "    \n",
    "    return bucket_size * math.floor(point / bucket_size) # first value of the n-th bucket\n",
    "\n",
    "def make_histogram(points: List[float], bucket_size: float) -> Dict[float, int]:\n",
    "    \"\"\"Buckets the points and counts haw many in each bucket\"\"\"\n",
    "    \n",
    "    return Counter(bucketize(point, bucket_size) for point in points)\n",
    "\n",
    "def plot_histogram(points: List[float], bucket_size: float, title: str = \"\"):\n",
    "    histogram = make_histogram(points, bucket_size)\n",
    "    plt.bar(histogram.keys(), histogram.values(), width=bucket_size)\n",
    "    plt.title(title)"
   ]
  },
  {
   "cell_type": "code",
   "execution_count": null,
   "metadata": {},
   "outputs": [],
   "source": [
    "import random\n",
    "\n",
    "random.seed(0)\n",
    "\n",
    "# uniform between -100 and 100\n",
    "uniform = [200 * random.random() - 100 for _ in range(10000)]\n",
    "\n",
    "# normal distribution with mean  0, standard deviation 57\n",
    "normal = [57 * inverse_normal_cdf(random.random()) for _ in range(10000)]"
   ]
  },
  {
   "cell_type": "code",
   "execution_count": null,
   "metadata": {
    "scrolled": true
   },
   "outputs": [],
   "source": [
    "plot_histogram(uniform, 10, \"Uniform Histogram\")"
   ]
  },
  {
   "cell_type": "code",
   "execution_count": null,
   "metadata": {
    "scrolled": true
   },
   "outputs": [],
   "source": [
    "plot_histogram(normal, 10, \"Normal Histogram\")"
   ]
  },
  {
   "cell_type": "code",
   "execution_count": null,
   "metadata": {
    "scrolled": true
   },
   "outputs": [],
   "source": [
    "# 2-D data\n",
    "\n",
    "def random_normal() -> float:\n",
    "    \"\"\"Returns a random draw from a standard normal distribution\"\"\"\n",
    "    \n",
    "    return inverse_normal_cdf(random.random())\n",
    "\n",
    "xs = [random_normal() for _ in range(1000)] # 1000 data points\n",
    "ys1 = [ x + random_normal() / 2 for x in xs]\n",
    "ys2 = [-x + random_normal() / 2 for x in xs]\n",
    "\n",
    "plt.scatter(xs, ys1, marker='.', color='red', label='ys1')\n",
    "plt.scatter(xs, ys2, marker='.', color='blue', label='ys2')\n",
    "plt.xlabel('xs')\n",
    "plt.ylabel('ys')\n",
    "plt.legend(loc=9)\n",
    "plt.title(\"Very Different Joint Distributions\")\n",
    "plt.show()"
   ]
  },
  {
   "cell_type": "code",
   "execution_count": null,
   "metadata": {
    "scrolled": true
   },
   "outputs": [],
   "source": [
    "print(correlation(xs, ys1)) # positive correlation\n",
    "print(correlation(xs, ys2)) # negative correlation"
   ]
  },
  {
   "cell_type": "code",
   "execution_count": null,
   "metadata": {},
   "outputs": [],
   "source": [
    "# N-D data\n",
    "\n",
    "def correlation_matrix(data: List[Vector]) -> Matrix:\n",
    "    \"\"\"\n",
    "    Returns the len(data) x len(data) matrix whose (i, j)-th entry\n",
    "    is the correlation between data[i] and data[j]\n",
    "    \"\"\"\n",
    "    \n",
    "    def correlation_ij(i: int, j: int) -> float:\n",
    "        return correlation(data[i], data[j])\n",
    "        \n",
    "    return make_matrix(len(data), len(data), correlation_ij)\n",
    "\n",
    "vectors = [xs, ys1, ys2]\n",
    "correlation_matrix(vectors)\n",
    "# assert correlation_matrix(vectors) == [\n",
    "#     [correlation(xs,  xs), correlation(xs,  ys1), correlation(xs,  ys2)],\n",
    "#     [correlation(ys1, xs), correlation(ys1, ys1), correlation(ys1, ys2)],\n",
    "#     [correlation(ys2, xs), correlation(ys2, ys1), correlation(ys2, ys2)],\n",
    "# ]"
   ]
  },
  {
   "cell_type": "code",
   "execution_count": null,
   "metadata": {},
   "outputs": [],
   "source": [
    "# Scatterplot matrix\n",
    "\n",
    "num_vectors = len(vectors)\n",
    "fig, ax = plt.subplots(num_vectors, num_vectors)\n",
    "\n",
    "for i in range(num_vectors):\n",
    "    for j in range(num_vectors):\n",
    "        \n",
    "        # Scatter column_j on the x-axis vs. column_i on the y-axis\n",
    "        if i != j:\n",
    "            ax[i][j].scatter(vectors[j], vectors[i])\n",
    "        \n",
    "        # unless i == j, in which case show the series name\n",
    "        else:\n",
    "            ax[i][j].annotate(\"series\" + str(i), (0.5, 0.5), \n",
    "                              xycoords='axes fraction', \n",
    "                              ha=\"center\", \n",
    "                              va=\"center\")\n",
    "        \n",
    "        # then hide axis labels except left and bottom charts\n",
    "        if i < num_vectors - 1: ax[i][j].xaxis.set_visible(False)\n",
    "        if j > 0: ax[i][j].yaxis.set_visible(False)\n",
    "            \n",
    "# Fix the bottom-right and top-left axis lables, \n",
    "# which are wrong because their charts only have text in them\n",
    "ax[-1][-1].set_xlim(ax[0][-1].get_xlim())\n",
    "ax[0][0].set_ylim(ax[0][1].get_ylim())\n",
    "\n",
    "plt.show()"
   ]
  }
 ],
 "metadata": {
  "kernelspec": {
   "display_name": "Python 3",
   "language": "python",
   "name": "python3"
  },
  "language_info": {
   "codemirror_mode": {
    "name": "ipython",
    "version": 3
   },
   "file_extension": ".py",
   "mimetype": "text/x-python",
   "name": "python",
   "nbconvert_exporter": "python",
   "pygments_lexer": "ipython3",
   "version": "3.6.12"
  }
 },
 "nbformat": 4,
 "nbformat_minor": 4
}
